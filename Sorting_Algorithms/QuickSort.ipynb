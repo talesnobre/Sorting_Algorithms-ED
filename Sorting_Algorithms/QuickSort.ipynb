{
 "cells": [
  {
   "attachments": {},
   "cell_type": "markdown",
   "metadata": {},
   "source": [
    "# QuickSort"
   ]
  },
  {
   "attachments": {},
   "cell_type": "markdown",
   "metadata": {},
   "source": [
    "## QuickSort Algorithm"
   ]
  },
  {
   "cell_type": "code",
   "execution_count": 1,
   "metadata": {},
   "outputs": [],
   "source": [
    "import time\n",
    "\n",
    "def quick_sort(arr):\n",
    "    if len(arr) <= 1:\n",
    "        return arr\n",
    "    \n",
    "    pivot = arr[len(arr) // 2]\n",
    "    left = [x for x in arr if x < pivot]\n",
    "    middle = [x for x in arr if x == pivot]\n",
    "    right = [x for x in arr if x > pivot]\n",
    "    \n",
    "    return quick_sort(left) + middle + quick_sort(right)"
   ]
  },
  {
   "attachments": {},
   "cell_type": "markdown",
   "metadata": {},
   "source": [
    "## QuickSort Tests"
   ]
  },
  {
   "cell_type": "code",
   "execution_count": 2,
   "metadata": {},
   "outputs": [
    {
     "name": "stdout",
     "output_type": "stream",
     "text": [
      "QuickSort\n",
      "\n",
      "\n",
      "Array 1 ordenado:\n",
      " [1, 3, 5, 7, 9]\n",
      "\n",
      "Tempo de execução para o array 1: 0.0 segundos\n",
      "________________________________________________\n",
      "\n",
      "Array 2 ordenado:\n",
      " [7, 14, 25, 36, 49, 64]\n",
      "\n",
      "Tempo de execução para o array 2: 0.0 segundos\n",
      "________________________________________________\n",
      "\n",
      "Array 3 ordenado:\n",
      " [3, 9, 10, 27, 38, 43, 82]\n",
      "\n",
      "Tempo de execução para o array 3: 0.0 segundos\n",
      "________________________________________________\n",
      "\n",
      "Array 4 ordenado:\n",
      " [1, 4, 9, 16, 25, 36, 49, 64, 81, 100]\n",
      "\n",
      "Tempo de execução para o array 4: 0.0 segundos\n",
      "________________________________________________\n",
      "\n"
     ]
    }
   ],
   "source": [
    "print(\"QuickSort\")\n",
    "print(\"\\n\")\n",
    "\n",
    "def run_test_cases():\n",
    "    test_cases = [\n",
    "        [9, 5, 7, 3, 1],\n",
    "        [64, 25, 36, 49, 14, 7],\n",
    "        [38, 27, 43, 3, 9, 82, 10],\n",
    "        [100, 81, 64, 49, 36, 25, 16, 9, 4, 1],\n",
    "    ]\n",
    "\n",
    "    for i, arr in enumerate(test_cases, start=1):\n",
    "        start_time = time.time()\n",
    "        sorted_arr = quick_sort(arr)\n",
    "        end_time = time.time()\n",
    "        execution_time = end_time - start_time\n",
    "        rounded_time = round(execution_time, 4)\n",
    "        \n",
    "        print(f\"Array {i} ordenado:\\n\", sorted_arr)\n",
    "        print()\n",
    "        print(f\"Tempo de execução para o array {i}:\", rounded_time, \"segundos\")\n",
    "        print(\"________________________________________________\")\n",
    "        print()\n",
    "\n",
    "run_test_cases()"
   ]
  }
 ],
 "metadata": {
  "kernelspec": {
   "display_name": "base",
   "language": "python",
   "name": "python3"
  },
  "language_info": {
   "codemirror_mode": {
    "name": "ipython",
    "version": 3
   },
   "file_extension": ".py",
   "mimetype": "text/x-python",
   "name": "python",
   "nbconvert_exporter": "python",
   "pygments_lexer": "ipython3",
   "version": "3.9.13"
  },
  "orig_nbformat": 4
 },
 "nbformat": 4,
 "nbformat_minor": 2
}
