{
 "cells": [
  {
   "attachments": {},
   "cell_type": "markdown",
   "metadata": {},
   "source": [
    "## SelectionSort"
   ]
  },
  {
   "attachments": {},
   "cell_type": "markdown",
   "metadata": {},
   "source": [
    "### SelectionSort implementation"
   ]
  },
  {
   "cell_type": "code",
   "execution_count": 1,
   "metadata": {},
   "outputs": [],
   "source": [
    "import time\n",
    "\n",
    "def selection_sort(arr):\n",
    "    n = len(arr)\n",
    "    for i in range(n):\n",
    "        min_idx = i\n",
    "        for j in range(i + 1, n):\n",
    "            if arr[j] < arr[min_idx]:\n",
    "                min_idx = j\n",
    "        arr[i], arr[min_idx] = arr[min_idx], arr[i]\n",
    "        print(arr)\n",
    "        time.sleep(1)"
   ]
  },
  {
   "attachments": {},
   "cell_type": "markdown",
   "metadata": {},
   "source": [
    "### SelectionSort Tests"
   ]
  },
  {
   "cell_type": "code",
   "execution_count": 2,
   "metadata": {},
   "outputs": [
    {
     "name": "stdout",
     "output_type": "stream",
     "text": [
      "SelectionSort\n",
      "\n",
      "\n",
      "[1, 5, 7, 3, 9]\n",
      "[1, 3, 7, 5, 9]\n",
      "[1, 3, 5, 7, 9]\n",
      "[1, 3, 5, 7, 9]\n",
      "[1, 3, 5, 7, 9]\n",
      "\n",
      "Tempo de execução para o array 1: 5.052 segundos\n",
      "________________________________________________\n",
      "\n",
      "[7, 25, 36, 49, 14, 64]\n",
      "[7, 14, 36, 49, 25, 64]\n",
      "[7, 14, 25, 49, 36, 64]\n",
      "[7, 14, 25, 36, 49, 64]\n",
      "[7, 14, 25, 36, 49, 64]\n",
      "[7, 14, 25, 36, 49, 64]\n",
      "\n",
      "Tempo de execução para o array 2: 6.065 segundos\n",
      "________________________________________________\n",
      "\n",
      "[3, 27, 43, 38, 9, 82, 10]\n",
      "[3, 9, 43, 38, 27, 82, 10]\n",
      "[3, 9, 10, 38, 27, 82, 43]\n",
      "[3, 9, 10, 27, 38, 82, 43]\n",
      "[3, 9, 10, 27, 38, 82, 43]\n",
      "[3, 9, 10, 27, 38, 43, 82]\n",
      "[3, 9, 10, 27, 38, 43, 82]\n",
      "\n",
      "Tempo de execução para o array 3: 7.073 segundos\n",
      "________________________________________________\n",
      "\n",
      "[1, 81, 64, 49, 36, 25, 16, 9, 4, 100]\n",
      "[1, 4, 64, 49, 36, 25, 16, 9, 81, 100]\n",
      "[1, 4, 9, 49, 36, 25, 16, 64, 81, 100]\n",
      "[1, 4, 9, 16, 36, 25, 49, 64, 81, 100]\n",
      "[1, 4, 9, 16, 25, 36, 49, 64, 81, 100]\n",
      "[1, 4, 9, 16, 25, 36, 49, 64, 81, 100]\n",
      "[1, 4, 9, 16, 25, 36, 49, 64, 81, 100]\n",
      "[1, 4, 9, 16, 25, 36, 49, 64, 81, 100]\n",
      "[1, 4, 9, 16, 25, 36, 49, 64, 81, 100]\n",
      "[1, 4, 9, 16, 25, 36, 49, 64, 81, 100]\n",
      "\n",
      "Tempo de execução para o array 4: 10.086 segundos\n",
      "________________________________________________\n",
      "\n"
     ]
    }
   ],
   "source": [
    "print(\"SelectionSort\")\n",
    "print(\"\\n\")\n",
    "\n",
    "def run_test_cases():\n",
    "    test_cases = [\n",
    "        [9, 5, 7, 3, 1],\n",
    "        [64, 25, 36, 49, 14, 7],\n",
    "        [38, 27, 43, 3, 9, 82, 10],\n",
    "        [100, 81, 64, 49, 36, 25, 16, 9, 4, 1],\n",
    "    ]\n",
    "\n",
    "    for i, arr in enumerate(test_cases, start=1):\n",
    "        start_time = time.time()\n",
    "        sorted_arr = selection_sort(arr)\n",
    "        end_time = time.time()\n",
    "        execution_time = end_time - start_time\n",
    "        rounded_time = round(execution_time, 3)\n",
    "        \n",
    "        print()\n",
    "        print(f\"Tempo de execução para o array {i}:\", rounded_time, \"segundos\")\n",
    "        print(\"________________________________________________\")\n",
    "        print()\n",
    "\n",
    "run_test_cases()"
   ]
  }
 ],
 "metadata": {
  "kernelspec": {
   "display_name": "base",
   "language": "python",
   "name": "python3"
  },
  "language_info": {
   "codemirror_mode": {
    "name": "ipython",
    "version": 3
   },
   "file_extension": ".py",
   "mimetype": "text/x-python",
   "name": "python",
   "nbconvert_exporter": "python",
   "pygments_lexer": "ipython3",
   "version": "3.9.13"
  },
  "orig_nbformat": 4
 },
 "nbformat": 4,
 "nbformat_minor": 2
}
