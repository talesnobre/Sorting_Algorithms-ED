{
 "cells": [
  {
   "attachments": {},
   "cell_type": "markdown",
   "metadata": {},
   "source": [
    "# InsertionSort"
   ]
  },
  {
   "attachments": {},
   "cell_type": "markdown",
   "metadata": {},
   "source": [
    "## InsertionSort Algorithm"
   ]
  },
  {
   "cell_type": "code",
   "execution_count": 1,
   "metadata": {},
   "outputs": [],
   "source": [
    "import time\n",
    "import numpy as np\n",
    "\n",
    "def insertion_sort(arr):\n",
    "    n = len(arr)\n",
    "    for i in range(1, n):\n",
    "        key = arr[i]\n",
    "        j = i - 1\n",
    "        while j >= 0 and arr[j] > key:\n",
    "            arr[j + 1] = arr[j]\n",
    "            j -= 1\n",
    "        arr[j + 1] = key\n",
    "        # print(arr)\n",
    "        # time.sleep(1)"
   ]
  },
  {
   "cell_type": "code",
   "execution_count": 2,
   "metadata": {},
   "outputs": [],
   "source": [
    "# Especificando o caminho para o arquivo de texto\n",
    "file_path_1 = 'instancias/num.1000.1.in'\n",
    "file_path_2 = 'instancias/num.1000.2.in'\n",
    "file_path_3 = 'instancias/num.1000.3.in'\n",
    "file_path_4 = 'instancias/num.1000.4.in'\n",
    "file_path_5 = 'instancias/num.10000.1.in'\n",
    "file_path_6 = 'instancias/num.10000.2.in'\n",
    "file_path_7 = 'instancias/num.10000.3.in'\n",
    "file_path_8 = 'instancias/num.10000.4.in'\n",
    "file_path_9 = 'instancias/num.100000.1.in'\n",
    "file_path_10 = 'instancias/num.100000.2.in'\n",
    "file_path_11 = 'instancias/num.100000.3.in'\n",
    "file_path_12 = 'instancias/num.100000.4.in'\n",
    "\n",
    "# Função loadtxt() para ler os inteiros do arquivo de texto\n",
    "array_1 = np.loadtxt(file_path_1, dtype=np.int64)\n",
    "array_2 = np.loadtxt(file_path_2, dtype=np.int64)\n",
    "array_3 = np.loadtxt(file_path_3, dtype=np.int64)\n",
    "array_4 = np.loadtxt(file_path_4, dtype=np.int64)\n",
    "array_5 = np.loadtxt(file_path_5, dtype=np.int64)\n",
    "array_6 = np.loadtxt(file_path_6, dtype=np.int64)\n",
    "array_7 = np.loadtxt(file_path_7, dtype=np.int64)\n",
    "array_8 = np.loadtxt(file_path_8, dtype=np.int64)\n",
    "array_9 = np.loadtxt(file_path_9, dtype=np.int64)\n",
    "array_10 = np.loadtxt(file_path_10, dtype=np.int64)\n",
    "array_11 = np.loadtxt(file_path_11, dtype=np.int64)\n",
    "array_12 = np.loadtxt(file_path_12, dtype=np.int64)"
   ]
  },
  {
   "attachments": {},
   "cell_type": "markdown",
   "metadata": {},
   "source": [
    "## InsertionSort Tests"
   ]
  },
  {
   "cell_type": "code",
   "execution_count": 3,
   "metadata": {},
   "outputs": [
    {
     "name": "stdout",
     "output_type": "stream",
     "text": [
      "InsertionSort\n",
      "\n",
      "\n",
      "\n",
      "Tempo de execução para o array 1: 0.102 segundos\n",
      "________________________________________________\n",
      "\n",
      "\n",
      "Tempo de execução para o array 2: 0.091 segundos\n",
      "________________________________________________\n",
      "\n",
      "\n",
      "Tempo de execução para o array 3: 0.098 segundos\n",
      "________________________________________________\n",
      "\n",
      "\n",
      "Tempo de execução para o array 4: 0.104 segundos\n",
      "________________________________________________\n",
      "\n",
      "\n",
      "Tempo de execução para o array 5: 9.742 segundos\n",
      "________________________________________________\n",
      "\n",
      "\n",
      "Tempo de execução para o array 6: 9.869 segundos\n",
      "________________________________________________\n",
      "\n",
      "\n",
      "Tempo de execução para o array 7: 9.326 segundos\n",
      "________________________________________________\n",
      "\n",
      "\n",
      "Tempo de execução para o array 8: 9.414 segundos\n",
      "________________________________________________\n",
      "\n"
     ]
    }
   ],
   "source": [
    "print(\"InsertionSort\")\n",
    "print(\"\\n\")\n",
    "\n",
    "def run_test_cases():\n",
    "    test_cases = [\n",
    "        array_1,\n",
    "        array_2,\n",
    "        array_3,\n",
    "        array_4,\n",
    "        array_5,\n",
    "        array_6,\n",
    "        array_7,\n",
    "        array_8,\n",
    "        # array_9,\n",
    "        # array_10,\n",
    "        # array_11,\n",
    "        # array_12\n",
    "    ]\n",
    "\n",
    "    for i, arr in enumerate(test_cases, start=1):\n",
    "        start_time = time.time()\n",
    "        sorted_arr = insertion_sort(arr)\n",
    "        end_time = time.time()\n",
    "        execution_time = end_time - start_time\n",
    "        rounded_time = round(execution_time, 3)\n",
    "        \n",
    "        print()\n",
    "        print(f\"Tempo de execução para o array {i}:\", rounded_time, \"segundos\")\n",
    "        print(\"________________________________________________\")\n",
    "        print()\n",
    "\n",
    "run_test_cases()"
   ]
  }
 ],
 "metadata": {
  "kernelspec": {
   "display_name": "base",
   "language": "python",
   "name": "python3"
  },
  "language_info": {
   "codemirror_mode": {
    "name": "ipython",
    "version": 3
   },
   "file_extension": ".py",
   "mimetype": "text/x-python",
   "name": "python",
   "nbconvert_exporter": "python",
   "pygments_lexer": "ipython3",
   "version": "3.9.13"
  },
  "orig_nbformat": 4
 },
 "nbformat": 4,
 "nbformat_minor": 2
}
