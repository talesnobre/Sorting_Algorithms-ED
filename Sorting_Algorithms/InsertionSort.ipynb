{
 "cells": [
  {
   "attachments": {},
   "cell_type": "markdown",
   "metadata": {},
   "source": [
    "# InsertionSort"
   ]
  },
  {
   "attachments": {},
   "cell_type": "markdown",
   "metadata": {},
   "source": [
    "## InsertionSort Algorithm"
   ]
  },
  {
   "cell_type": "code",
   "execution_count": 1,
   "metadata": {},
   "outputs": [],
   "source": [
    "import time\n",
    "\n",
    "def insertion_sort(arr):\n",
    "    n = len(arr)\n",
    "    for i in range(1, n):\n",
    "        key = arr[i]\n",
    "        j = i - 1\n",
    "        while j >= 0 and arr[j] > key:\n",
    "            arr[j + 1] = arr[j]\n",
    "            j -= 1\n",
    "        arr[j + 1] = key\n",
    "        print(arr)\n",
    "        time.sleep(1)"
   ]
  },
  {
   "attachments": {},
   "cell_type": "markdown",
   "metadata": {},
   "source": [
    "## InsertionSort Tests"
   ]
  },
  {
   "cell_type": "code",
   "execution_count": 2,
   "metadata": {},
   "outputs": [
    {
     "name": "stdout",
     "output_type": "stream",
     "text": [
      "InsertionSort\n",
      "\n",
      "\n",
      "[5, 9, 7, 3, 1]\n",
      "[5, 7, 9, 3, 1]\n",
      "[3, 5, 7, 9, 1]\n",
      "[1, 3, 5, 7, 9]\n",
      "\n",
      "Tempo de execução para o array 1: 4.043 segundos\n",
      "________________________________________________\n",
      "\n",
      "[25, 64, 36, 49, 14, 7]\n",
      "[25, 36, 64, 49, 14, 7]\n",
      "[25, 36, 49, 64, 14, 7]\n",
      "[14, 25, 36, 49, 64, 7]\n",
      "[7, 14, 25, 36, 49, 64]\n",
      "\n",
      "Tempo de execução para o array 2: 5.042 segundos\n",
      "________________________________________________\n",
      "\n",
      "[27, 38, 43, 3, 9, 82, 10]\n",
      "[27, 38, 43, 3, 9, 82, 10]\n",
      "[3, 27, 38, 43, 9, 82, 10]\n",
      "[3, 9, 27, 38, 43, 82, 10]\n",
      "[3, 9, 27, 38, 43, 82, 10]\n",
      "[3, 9, 10, 27, 38, 43, 82]\n",
      "\n",
      "Tempo de execução para o array 3: 6.051 segundos\n",
      "________________________________________________\n",
      "\n",
      "[81, 100, 64, 49, 36, 25, 16, 9, 4, 1]\n",
      "[64, 81, 100, 49, 36, 25, 16, 9, 4, 1]\n",
      "[49, 64, 81, 100, 36, 25, 16, 9, 4, 1]\n",
      "[36, 49, 64, 81, 100, 25, 16, 9, 4, 1]\n",
      "[25, 36, 49, 64, 81, 100, 16, 9, 4, 1]\n",
      "[16, 25, 36, 49, 64, 81, 100, 9, 4, 1]\n",
      "[9, 16, 25, 36, 49, 64, 81, 100, 4, 1]\n",
      "[4, 9, 16, 25, 36, 49, 64, 81, 100, 1]\n",
      "[1, 4, 9, 16, 25, 36, 49, 64, 81, 100]\n",
      "\n",
      "Tempo de execução para o array 4: 9.101 segundos\n",
      "________________________________________________\n",
      "\n"
     ]
    }
   ],
   "source": [
    "print(\"InsertionSort\")\n",
    "print(\"\\n\")\n",
    "\n",
    "def run_test_cases():\n",
    "    test_cases = [\n",
    "        [9, 5, 7, 3, 1],\n",
    "        [64, 25, 36, 49, 14, 7],\n",
    "        [38, 27, 43, 3, 9, 82, 10],\n",
    "        [100, 81, 64, 49, 36, 25, 16, 9, 4, 1],\n",
    "    ]\n",
    "\n",
    "    for i, arr in enumerate(test_cases, start=1):\n",
    "        start_time = time.time()\n",
    "        sorted_arr = insertion_sort(arr)\n",
    "        end_time = time.time()\n",
    "        execution_time = end_time - start_time\n",
    "        rounded_time = round(execution_time, 3)\n",
    "        \n",
    "        print()\n",
    "        print(f\"Tempo de execução para o array {i}:\", rounded_time, \"segundos\")\n",
    "        print(\"________________________________________________\")\n",
    "        print()\n",
    "\n",
    "run_test_cases()"
   ]
  }
 ],
 "metadata": {
  "kernelspec": {
   "display_name": "base",
   "language": "python",
   "name": "python3"
  },
  "language_info": {
   "codemirror_mode": {
    "name": "ipython",
    "version": 3
   },
   "file_extension": ".py",
   "mimetype": "text/x-python",
   "name": "python",
   "nbconvert_exporter": "python",
   "pygments_lexer": "ipython3",
   "version": "3.9.13"
  },
  "orig_nbformat": 4
 },
 "nbformat": 4,
 "nbformat_minor": 2
}
