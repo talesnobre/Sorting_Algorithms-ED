{
 "cells": [
  {
   "attachments": {},
   "cell_type": "markdown",
   "metadata": {},
   "source": [
    "## BubbleSort"
   ]
  },
  {
   "attachments": {},
   "cell_type": "markdown",
   "metadata": {},
   "source": [
    "### BubbleSort implementation"
   ]
  },
  {
   "cell_type": "code",
   "execution_count": 1,
   "metadata": {},
   "outputs": [],
   "source": [
    "import time\n",
    "\n",
    "def bubble_sort(arr):\n",
    "    n = len(arr)\n",
    "    for i in range(n):\n",
    "        for j in range(n - i - 1):\n",
    "            if arr[j] > arr[j + 1]:\n",
    "                arr[j], arr[j + 1] = arr[j + 1], arr[j]\n",
    "        print(arr)\n",
    "        time.sleep(1)"
   ]
  },
  {
   "attachments": {},
   "cell_type": "markdown",
   "metadata": {},
   "source": [
    "## BubbleSort Tests"
   ]
  },
  {
   "cell_type": "code",
   "execution_count": 2,
   "metadata": {},
   "outputs": [
    {
     "name": "stdout",
     "output_type": "stream",
     "text": [
      "BubbleSort\n",
      "\n",
      "\n",
      "[5, 7, 3, 1, 9]\n",
      "[5, 3, 1, 7, 9]\n",
      "[3, 1, 5, 7, 9]\n",
      "[1, 3, 5, 7, 9]\n",
      "[1, 3, 5, 7, 9]\n",
      "\n",
      "Tempo de execução para o array 1: 5.032 segundos\n",
      "________________________________________________\n",
      "\n",
      "[25, 36, 49, 14, 7, 64]\n",
      "[25, 36, 14, 7, 49, 64]\n",
      "[25, 14, 7, 36, 49, 64]\n",
      "[14, 7, 25, 36, 49, 64]\n",
      "[7, 14, 25, 36, 49, 64]\n",
      "[7, 14, 25, 36, 49, 64]\n",
      "\n",
      "Tempo de execução para o array 2: 6.072 segundos\n",
      "________________________________________________\n",
      "\n",
      "[27, 38, 3, 9, 43, 10, 82]\n",
      "[27, 3, 9, 38, 10, 43, 82]\n",
      "[3, 9, 27, 10, 38, 43, 82]\n",
      "[3, 9, 10, 27, 38, 43, 82]\n",
      "[3, 9, 10, 27, 38, 43, 82]\n",
      "[3, 9, 10, 27, 38, 43, 82]\n",
      "[3, 9, 10, 27, 38, 43, 82]\n",
      "\n",
      "Tempo de execução para o array 3: 7.076 segundos\n",
      "________________________________________________\n",
      "\n",
      "[81, 64, 49, 36, 25, 16, 9, 4, 1, 100]\n",
      "[64, 49, 36, 25, 16, 9, 4, 1, 81, 100]\n",
      "[49, 36, 25, 16, 9, 4, 1, 64, 81, 100]\n",
      "[36, 25, 16, 9, 4, 1, 49, 64, 81, 100]\n",
      "[25, 16, 9, 4, 1, 36, 49, 64, 81, 100]\n",
      "[16, 9, 4, 1, 25, 36, 49, 64, 81, 100]\n",
      "[9, 4, 1, 16, 25, 36, 49, 64, 81, 100]\n",
      "[4, 1, 9, 16, 25, 36, 49, 64, 81, 100]\n",
      "[1, 4, 9, 16, 25, 36, 49, 64, 81, 100]\n",
      "[1, 4, 9, 16, 25, 36, 49, 64, 81, 100]\n",
      "\n",
      "Tempo de execução para o array 4: 10.106 segundos\n",
      "________________________________________________\n",
      "\n"
     ]
    }
   ],
   "source": [
    "print(\"BubbleSort\")\n",
    "print(\"\\n\")\n",
    "\n",
    "def run_test_cases():\n",
    "    test_cases = [\n",
    "        [9, 5, 7, 3, 1],\n",
    "        [64, 25, 36, 49, 14, 7],\n",
    "        [38, 27, 43, 3, 9, 82, 10],\n",
    "        [100, 81, 64, 49, 36, 25, 16, 9, 4, 1],\n",
    "    ]\n",
    "\n",
    "    for i, arr in enumerate(test_cases, start=1):\n",
    "        start_time = time.time()\n",
    "        sorted_arr = bubble_sort(arr)\n",
    "        end_time = time.time()\n",
    "        execution_time = end_time - start_time\n",
    "        rounded_time = round(execution_time, 3)\n",
    "        \n",
    "        print()\n",
    "        print(f\"Tempo de execução para o array {i}:\", rounded_time, \"segundos\")\n",
    "        print(\"________________________________________________\")\n",
    "        print()\n",
    "\n",
    "run_test_cases()"
   ]
  }
 ],
 "metadata": {
  "kernelspec": {
   "display_name": "base",
   "language": "python",
   "name": "python3"
  },
  "language_info": {
   "codemirror_mode": {
    "name": "ipython",
    "version": 3
   },
   "file_extension": ".py",
   "mimetype": "text/x-python",
   "name": "python",
   "nbconvert_exporter": "python",
   "pygments_lexer": "ipython3",
   "version": "3.9.13"
  },
  "orig_nbformat": 4
 },
 "nbformat": 4,
 "nbformat_minor": 2
}
