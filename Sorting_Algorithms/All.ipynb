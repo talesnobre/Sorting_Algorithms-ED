{
  "cells": [
    {
      "attachments": {},
      "cell_type": "markdown",
      "metadata": {
        "id": "fJgNlPLIOlzo"
      },
      "source": [
        "## Algoritmos de Ordenação"
      ]
    },
    {
      "attachments": {},
      "cell_type": "markdown",
      "metadata": {
        "id": "gP2wj1IrNIyN"
      },
      "source": [
        "### SelectionSort"
      ]
    },
    {
      "cell_type": "code",
      "execution_count": null,
      "metadata": {
        "colab": {
          "base_uri": "https://localhost:8080/"
        },
        "id": "Rul9pSjIU4Pg",
        "outputId": "d501bbf5-12e0-4bc4-d690-fd4ca654b806"
      },
      "outputs": [
        {
          "name": "stdout",
          "output_type": "stream",
          "text": [
            "SelectionSort\n",
            "\n",
            "\n",
            "[1, 5, 7, 3, 9]\n",
            "[1, 3, 7, 5, 9]\n",
            "[1, 3, 5, 7, 9]\n",
            "[1, 3, 5, 7, 9]\n",
            "[1, 3, 5, 7, 9]\n",
            "\n",
            "Tempo de execução para o array 1: 5.007 segundos\n",
            "________________________________________________\n",
            "\n",
            "[7, 25, 36, 49, 14, 64]\n",
            "[7, 14, 36, 49, 25, 64]\n",
            "[7, 14, 25, 49, 36, 64]\n",
            "[7, 14, 25, 36, 49, 64]\n",
            "[7, 14, 25, 36, 49, 64]\n",
            "[7, 14, 25, 36, 49, 64]\n",
            "\n",
            "Tempo de execução para o array 2: 6.008 segundos\n",
            "________________________________________________\n",
            "\n",
            "[3, 27, 43, 38, 9, 82, 10]\n",
            "[3, 9, 43, 38, 27, 82, 10]\n",
            "[3, 9, 10, 38, 27, 82, 43]\n",
            "[3, 9, 10, 27, 38, 82, 43]\n",
            "[3, 9, 10, 27, 38, 82, 43]\n",
            "[3, 9, 10, 27, 38, 43, 82]\n",
            "[3, 9, 10, 27, 38, 43, 82]\n",
            "\n",
            "Tempo de execução para o array 3: 7.008 segundos\n",
            "________________________________________________\n",
            "\n",
            "[1, 81, 64, 49, 36, 25, 16, 9, 4, 100]\n",
            "[1, 4, 64, 49, 36, 25, 16, 9, 81, 100]\n",
            "[1, 4, 9, 49, 36, 25, 16, 64, 81, 100]\n",
            "[1, 4, 9, 16, 36, 25, 49, 64, 81, 100]\n",
            "[1, 4, 9, 16, 25, 36, 49, 64, 81, 100]\n",
            "[1, 4, 9, 16, 25, 36, 49, 64, 81, 100]\n",
            "[1, 4, 9, 16, 25, 36, 49, 64, 81, 100]\n",
            "[1, 4, 9, 16, 25, 36, 49, 64, 81, 100]\n",
            "[1, 4, 9, 16, 25, 36, 49, 64, 81, 100]\n",
            "[1, 4, 9, 16, 25, 36, 49, 64, 81, 100]\n",
            "\n",
            "Tempo de execução para o array 4: 10.012 segundos\n",
            "________________________________________________\n",
            "\n"
          ]
        }
      ],
      "source": [
        "import time\n",
        "\n",
        "def selection_sort(arr):\n",
        "    n = len(arr)\n",
        "    for i in range(n):\n",
        "        min_idx = i\n",
        "        for j in range(i + 1, n):\n",
        "            if arr[j] < arr[min_idx]:\n",
        "                min_idx = j\n",
        "        arr[i], arr[min_idx] = arr[min_idx], arr[i]\n",
        "        print(arr)\n",
        "        time.sleep(1)\n",
        "\n",
        "print(\"SelectionSort\")\n",
        "print(\"\\n\")\n",
        "\n",
        "def run_test_cases():\n",
        "    test_cases = [\n",
        "        [9, 5, 7, 3, 1],\n",
        "        [64, 25, 36, 49, 14, 7],\n",
        "        [38, 27, 43, 3, 9, 82, 10],\n",
        "        [100, 81, 64, 49, 36, 25, 16, 9, 4, 1],\n",
        "    ]\n",
        "\n",
        "    for i, arr in enumerate(test_cases, start=1):\n",
        "        start_time = time.time()\n",
        "        sorted_arr = selection_sort(arr)\n",
        "        end_time = time.time()\n",
        "        execution_time = end_time - start_time\n",
        "        rounded_time = round(execution_time, 3)\n",
        "        \n",
        "        print()\n",
        "        print(f\"Tempo de execução para o array {i}:\", rounded_time, \"segundos\")\n",
        "        print(\"________________________________________________\")\n",
        "        print()\n",
        "\n",
        "run_test_cases()"
      ]
    },
    {
      "attachments": {},
      "cell_type": "markdown",
      "metadata": {
        "id": "uqB-uDnnM-7X"
      },
      "source": [
        "### BubbleSort"
      ]
    },
    {
      "cell_type": "code",
      "execution_count": null,
      "metadata": {
        "colab": {
          "base_uri": "https://localhost:8080/"
        },
        "id": "BvW6aF_oUiDb",
        "outputId": "e1a2354f-b985-4d18-d94c-9e9b9e64aae8"
      },
      "outputs": [
        {
          "name": "stdout",
          "output_type": "stream",
          "text": [
            "BubbleSort\n",
            "\n",
            "\n",
            "[3, 5, 1, 7, 9]\n",
            "[3, 1, 5, 7, 9]\n",
            "[1, 3, 5, 7, 9]\n",
            "[1, 3, 5, 7, 9]\n",
            "[1, 3, 5, 7, 9]\n",
            "\n",
            "Tempo de execução para o array 1: 5.0053 segundos\n",
            "________________________________________________\n",
            "\n",
            "[25, 36, 49, 14, 7, 64]\n",
            "[25, 36, 14, 7, 49, 64]\n",
            "[25, 14, 7, 36, 49, 64]\n",
            "[14, 7, 25, 36, 49, 64]\n",
            "[7, 14, 25, 36, 49, 64]\n",
            "[7, 14, 25, 36, 49, 64]\n",
            "\n",
            "Tempo de execução para o array 2: 6.0072 segundos\n",
            "________________________________________________\n",
            "\n",
            "[27, 38, 3, 9, 43, 10, 82]\n",
            "[27, 3, 9, 38, 10, 43, 82]\n",
            "[3, 9, 27, 10, 38, 43, 82]\n",
            "[3, 9, 10, 27, 38, 43, 82]\n",
            "[3, 9, 10, 27, 38, 43, 82]\n",
            "[3, 9, 10, 27, 38, 43, 82]\n",
            "[3, 9, 10, 27, 38, 43, 82]\n",
            "\n",
            "Tempo de execução para o array 3: 7.0079 segundos\n",
            "________________________________________________\n",
            "\n",
            "[81, 64, 49, 36, 25, 16, 9, 4, 1, 100]\n",
            "[64, 49, 36, 25, 16, 9, 4, 1, 81, 100]\n",
            "[49, 36, 25, 16, 9, 4, 1, 64, 81, 100]\n",
            "[36, 25, 16, 9, 4, 1, 49, 64, 81, 100]\n",
            "[25, 16, 9, 4, 1, 36, 49, 64, 81, 100]\n",
            "[16, 9, 4, 1, 25, 36, 49, 64, 81, 100]\n",
            "[9, 4, 1, 16, 25, 36, 49, 64, 81, 100]\n",
            "[4, 1, 9, 16, 25, 36, 49, 64, 81, 100]\n",
            "[1, 4, 9, 16, 25, 36, 49, 64, 81, 100]\n",
            "[1, 4, 9, 16, 25, 36, 49, 64, 81, 100]\n",
            "\n",
            "Tempo de execução para o array 4: 10.0123 segundos\n",
            "________________________________________________\n",
            "\n"
          ]
        }
      ],
      "source": [
        "import time\n",
        "\n",
        "def bubble_sort(arr):\n",
        "    n = len(arr)\n",
        "    for i in range(n):\n",
        "        for j in range(n - i - 1):\n",
        "            if arr[j] > arr[j + 1]:\n",
        "                arr[j], arr[j + 1] = arr[j + 1], arr[j]\n",
        "        print(arr)\n",
        "        time.sleep(1)\n",
        "\n",
        "print(\"BubbleSort\")\n",
        "print(\"\\n\")\n",
        "\n",
        "def run_test_cases():\n",
        "    test_cases = [\n",
        "        [9, 5, 7, 3, 1],\n",
        "        [64, 25, 36, 49, 14, 7],\n",
        "        [38, 27, 43, 3, 9, 82, 10],\n",
        "        [100, 81, 64, 49, 36, 25, 16, 9, 4, 1],\n",
        "    ]\n",
        "\n",
        "    for i, arr in enumerate(test_cases, start=1):\n",
        "        start_time = time.time()\n",
        "        sorted_arr = bubble_sort(arr)\n",
        "        end_time = time.time()\n",
        "        execution_time = end_time - start_time\n",
        "        rounded_time = round(execution_time, 3)\n",
        "        \n",
        "        print()\n",
        "        print(f\"Tempo de execução para o array {i}:\", rounded_time, \"segundos\")\n",
        "        print(\"________________________________________________\")\n",
        "        print()\n",
        "\n",
        "run_test_cases()"
      ]
    },
    {
      "attachments": {},
      "cell_type": "markdown",
      "metadata": {
        "id": "iIhTr_vzNfIl"
      },
      "source": [
        "### InsertionSort"
      ]
    },
    {
      "cell_type": "code",
      "execution_count": null,
      "metadata": {
        "colab": {
          "base_uri": "https://localhost:8080/"
        },
        "id": "bf0tOpzRUAP6",
        "outputId": "2d08588e-7ecc-422c-a2c0-8419fa9c3216"
      },
      "outputs": [
        {
          "name": "stdout",
          "output_type": "stream",
          "text": [
            "InsertionSort\n",
            "\n",
            "\n",
            "[3, 5, 7, 1, 9]\n",
            "[3, 5, 7, 1, 9]\n",
            "[1, 3, 5, 7, 9]\n",
            "[1, 3, 5, 7, 9]\n",
            "\n",
            "Tempo de execução para o array 1: 4.0043 segundos\n",
            "________________________________________________\n",
            "\n",
            "[25, 64, 36, 49, 14, 7]\n",
            "[25, 36, 64, 49, 14, 7]\n",
            "[25, 36, 49, 64, 14, 7]\n",
            "[14, 25, 36, 49, 64, 7]\n",
            "[7, 14, 25, 36, 49, 64]\n",
            "\n",
            "Tempo de execução para o array 2: 5.0062 segundos\n",
            "________________________________________________\n",
            "\n",
            "[27, 38, 43, 3, 9, 82, 10]\n",
            "[27, 38, 43, 3, 9, 82, 10]\n",
            "[3, 27, 38, 43, 9, 82, 10]\n",
            "[3, 9, 27, 38, 43, 82, 10]\n",
            "[3, 9, 27, 38, 43, 82, 10]\n",
            "[3, 9, 10, 27, 38, 43, 82]\n",
            "\n",
            "Tempo de execução para o array 3: 6.0061 segundos\n",
            "________________________________________________\n",
            "\n",
            "[81, 100, 64, 49, 36, 25, 16, 9, 4, 1]\n",
            "[64, 81, 100, 49, 36, 25, 16, 9, 4, 1]\n",
            "[49, 64, 81, 100, 36, 25, 16, 9, 4, 1]\n",
            "[36, 49, 64, 81, 100, 25, 16, 9, 4, 1]\n",
            "[25, 36, 49, 64, 81, 100, 16, 9, 4, 1]\n",
            "[16, 25, 36, 49, 64, 81, 100, 9, 4, 1]\n",
            "[9, 16, 25, 36, 49, 64, 81, 100, 4, 1]\n",
            "[4, 9, 16, 25, 36, 49, 64, 81, 100, 1]\n",
            "[1, 4, 9, 16, 25, 36, 49, 64, 81, 100]\n",
            "\n",
            "Tempo de execução para o array 4: 9.0105 segundos\n",
            "________________________________________________\n",
            "\n"
          ]
        }
      ],
      "source": [
        "import time\n",
        "\n",
        "def insertion_sort(arr):\n",
        "    n = len(arr)\n",
        "    for i in range(1, n):\n",
        "        key = arr[i]\n",
        "        j = i - 1\n",
        "        while j >= 0 and arr[j] > key:\n",
        "            arr[j + 1] = arr[j]\n",
        "            j -= 1\n",
        "        arr[j + 1] = key\n",
        "        print(arr)\n",
        "        time.sleep(1)\n",
        "\n",
        "print(\"InsertionSort\")\n",
        "print(\"\\n\")\n",
        "\n",
        "def run_test_cases():\n",
        "    test_cases = [\n",
        "        [9, 5, 7, 3, 1],\n",
        "        [64, 25, 36, 49, 14, 7],\n",
        "        [38, 27, 43, 3, 9, 82, 10],\n",
        "        [100, 81, 64, 49, 36, 25, 16, 9, 4, 1],\n",
        "    ]\n",
        "\n",
        "    for i, arr in enumerate(test_cases, start=1):\n",
        "        start_time = time.time()\n",
        "        sorted_arr = insertion_sort(arr)\n",
        "        end_time = time.time()\n",
        "        execution_time = end_time - start_time\n",
        "        rounded_time = round(execution_time, 3)\n",
        "        \n",
        "        print()\n",
        "        print(f\"Tempo de execução para o array {i}:\", rounded_time, \"segundos\")\n",
        "        print(\"________________________________________________\")\n",
        "        print()\n",
        "\n",
        "run_test_cases()"
      ]
    },
    {
      "attachments": {},
      "cell_type": "markdown",
      "metadata": {
        "id": "d1o8YBP2N10h"
      },
      "source": [
        "### MergeSort"
      ]
    },
    {
      "cell_type": "code",
      "execution_count": null,
      "metadata": {
        "colab": {
          "base_uri": "https://localhost:8080/"
        },
        "id": "9qggPlVKTmDg",
        "outputId": "837fd2e9-c20d-44a6-f50a-3823c77ad5f2"
      },
      "outputs": [
        {
          "name": "stdout",
          "output_type": "stream",
          "text": [
            "MergeSort\n",
            "\n",
            "\n",
            "Array 1 ordenado:\n",
            " [1, 3, 5, 7, 9]\n",
            "\n",
            "Tempo de execução para o array 1: 0.0 segundos\n",
            "________________________________________________\n",
            "\n",
            "Array 2 ordenado:\n",
            " [7, 14, 25, 36, 49, 64]\n",
            "\n",
            "Tempo de execução para o array 2: 0.0 segundos\n",
            "________________________________________________\n",
            "\n",
            "Array 3 ordenado:\n",
            " [3, 9, 10, 27, 38, 43, 82]\n",
            "\n",
            "Tempo de execução para o array 3: 0.0 segundos\n",
            "________________________________________________\n",
            "\n",
            "Array 4 ordenado:\n",
            " [1, 4, 9, 16, 25, 36, 49, 64, 81, 100]\n",
            "\n",
            "Tempo de execução para o array 4: 0.0 segundos\n",
            "________________________________________________\n",
            "\n"
          ]
        }
      ],
      "source": [
        "import time\n",
        "\n",
        "def merge_sort(arr):\n",
        "    if len(arr) <= 1:\n",
        "        return arr\n",
        "    \n",
        "    mid = len(arr) // 2\n",
        "    left = arr[:mid]\n",
        "    right = arr[mid:]\n",
        "    \n",
        "    left = merge_sort(left)\n",
        "    right = merge_sort(right)\n",
        "    \n",
        "    return merge(left, right)\n",
        "\n",
        "def merge(left, right):\n",
        "    merged = []\n",
        "    i = j = 0\n",
        "    \n",
        "    while i < len(left) and j < len(right):\n",
        "        if left[i] < right[j]:\n",
        "            merged.append(left[i])\n",
        "            i += 1\n",
        "        else:\n",
        "            merged.append(right[j])\n",
        "            j += 1\n",
        "    \n",
        "    while i < len(left):\n",
        "        merged.append(left[i])\n",
        "        i += 1\n",
        "    \n",
        "    while j < len(right):\n",
        "        merged.append(right[j])\n",
        "        j += 1\n",
        "    \n",
        "    return merged\n",
        "\n",
        "print(\"MergeSort\")\n",
        "print(\"\\n\")\n",
        "\n",
        "def run_test_cases():\n",
        "    test_cases = [\n",
        "        [9, 5, 7, 3, 1],\n",
        "        [64, 25, 36, 49, 14, 7],\n",
        "        [38, 27, 43, 3, 9, 82, 10],\n",
        "        [100, 81, 64, 49, 36, 25, 16, 9, 4, 1],\n",
        "    ]\n",
        "\n",
        "    for i, arr in enumerate(test_cases, start=1):\n",
        "        start_time = time.time()\n",
        "        sorted_arr = merge_sort(arr)\n",
        "        end_time = time.time()\n",
        "        execution_time = end_time - start_time\n",
        "        rounded_time = round(execution_time, 4)\n",
        "        \n",
        "        print(f\"Array {i} ordenado:\\n\", sorted_arr)\n",
        "        print()\n",
        "        print(f\"Tempo de execução para o array {i}:\", rounded_time, \"segundos\")\n",
        "        print(\"________________________________________________\")\n",
        "        print()\n",
        "\n",
        "run_test_cases()"
      ]
    },
    {
      "attachments": {},
      "cell_type": "markdown",
      "metadata": {
        "id": "A4XvAhbROXNY"
      },
      "source": [
        "### QuickSort"
      ]
    },
    {
      "cell_type": "code",
      "execution_count": null,
      "metadata": {
        "colab": {
          "base_uri": "https://localhost:8080/"
        },
        "id": "pSCLYx1tO-Wk",
        "outputId": "dbcd6050-ba7f-4834-8df3-d83167343098"
      },
      "outputs": [
        {
          "name": "stdout",
          "output_type": "stream",
          "text": [
            "QuickSort\n",
            "\n",
            "\n",
            "Array 1 ordenado:\n",
            " [1, 3, 5, 7, 9]\n",
            "\n",
            "Tempo de execução para o array 1: 0.0 segundos\n",
            "________________________________________________\n",
            "\n",
            "Array 2 ordenado:\n",
            " [7, 14, 25, 36, 49, 64]\n",
            "\n",
            "Tempo de execução para o array 2: 0.0 segundos\n",
            "________________________________________________\n",
            "\n",
            "Array 3 ordenado:\n",
            " [3, 9, 10, 27, 38, 43, 82]\n",
            "\n",
            "Tempo de execução para o array 3: 0.0 segundos\n",
            "________________________________________________\n",
            "\n",
            "Array 4 ordenado:\n",
            " [1, 4, 9, 16, 25, 36, 49, 64, 81, 100]\n",
            "\n",
            "Tempo de execução para o array 4: 0.0 segundos\n",
            "________________________________________________\n",
            "\n"
          ]
        }
      ],
      "source": [
        "import time\n",
        "\n",
        "def quick_sort(arr):\n",
        "    if len(arr) <= 1:\n",
        "        return arr\n",
        "    \n",
        "    pivot = arr[len(arr) // 2]\n",
        "    left = [x for x in arr if x < pivot]\n",
        "    middle = [x for x in arr if x == pivot]\n",
        "    right = [x for x in arr if x > pivot]\n",
        "    \n",
        "    return quick_sort(left) + middle + quick_sort(right)\n",
        "\n",
        "print(\"QuickSort\")\n",
        "print(\"\\n\")\n",
        "\n",
        "def run_test_cases():\n",
        "    test_cases = [\n",
        "        [9, 5, 7, 3, 1],\n",
        "        [64, 25, 36, 49, 14, 7],\n",
        "        [38, 27, 43, 3, 9, 82, 10],\n",
        "        [100, 81, 64, 49, 36, 25, 16, 9, 4, 1],\n",
        "    ]\n",
        "\n",
        "    for i, arr in enumerate(test_cases, start=1):\n",
        "        start_time = time.time()\n",
        "        sorted_arr = quick_sort(arr)\n",
        "        end_time = time.time()\n",
        "        execution_time = end_time - start_time\n",
        "        rounded_time = round(execution_time, 4)\n",
        "        \n",
        "        print(f\"Array {i} ordenado:\\n\", sorted_arr)\n",
        "        print()\n",
        "        print(f\"Tempo de execução para o array {i}:\", rounded_time, \"segundos\")\n",
        "        print(\"________________________________________________\")\n",
        "        print()\n",
        "\n",
        "run_test_cases()"
      ]
    }
  ],
  "metadata": {
    "colab": {
      "provenance": []
    },
    "kernelspec": {
      "display_name": "Python 3",
      "name": "python3"
    },
    "language_info": {
      "name": "python"
    }
  },
  "nbformat": 4,
  "nbformat_minor": 0
}
